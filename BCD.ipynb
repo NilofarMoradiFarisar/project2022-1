{
  "nbformat": 4,
  "nbformat_minor": 0,
  "metadata": {
    "colab": {
      "name": "BCD.ipynb",
      "provenance": [],
      "collapsed_sections": [],
      "authorship_tag": "ABX9TyN5FR0DxfKkT1n8uSalTvnG",
      "include_colab_link": true
    },
    "kernelspec": {
      "name": "python3",
      "display_name": "Python 3"
    },
    "language_info": {
      "name": "python"
    }
  },
  "cells": [
    {
      "cell_type": "markdown",
      "metadata": {
        "id": "view-in-github",
        "colab_type": "text"
      },
      "source": [
        "<a href=\"https://colab.research.google.com/github/NilofarMoradiFarisar/project2022-1/blob/main/BCD.ipynb\" target=\"_parent\"><img src=\"https://colab.research.google.com/assets/colab-badge.svg\" alt=\"Open In Colab\"/></a>"
      ]
    },
    {
      "cell_type": "code",
      "execution_count": 2,
      "metadata": {
        "id": "R-MX2oq9cnpo"
      },
      "outputs": [],
      "source": [
        "from sklearn import datasets"
      ]
    },
    {
      "cell_type": "code",
      "source": [
        "import pandas as pd\n",
        "import numpy as np\n",
        "import matplotlib.pyplot as plt\n",
        "import seaborn as sb"
      ],
      "metadata": {
        "id": "BcqetOoGctFT"
      },
      "execution_count": 3,
      "outputs": []
    },
    {
      "cell_type": "code",
      "source": [
        "bcd = datasets.load_breast_cancer()"
      ],
      "metadata": {
        "id": "xP80ndXxc5NA"
      },
      "execution_count": 4,
      "outputs": []
    },
    {
      "cell_type": "code",
      "source": [
        "x= bcd.data\n",
        "y= bcd.target\n",
        "x.shape"
      ],
      "metadata": {
        "colab": {
          "base_uri": "https://localhost:8080/"
        },
        "id": "rYAjxc7sc_0r",
        "outputId": "1735015d-15ab-48ad-db08-7b519528ebc4"
      },
      "execution_count": 5,
      "outputs": [
        {
          "output_type": "execute_result",
          "data": {
            "text/plain": [
              "(569, 30)"
            ]
          },
          "metadata": {},
          "execution_count": 5
        }
      ]
    },
    {
      "cell_type": "code",
      "source": [
        "y.shape"
      ],
      "metadata": {
        "colab": {
          "base_uri": "https://localhost:8080/"
        },
        "id": "UKdp6yKjdTWD",
        "outputId": "c039c457-ea14-4827-a013-5fe0a9c20583"
      },
      "execution_count": 6,
      "outputs": [
        {
          "output_type": "execute_result",
          "data": {
            "text/plain": [
              "(569,)"
            ]
          },
          "metadata": {},
          "execution_count": 6
        }
      ]
    },
    {
      "cell_type": "code",
      "source": [
        "bcd.target_names"
      ],
      "metadata": {
        "colab": {
          "base_uri": "https://localhost:8080/"
        },
        "id": "y9cEO5K9dkin",
        "outputId": "a325f891-b1ed-43da-be87-24f710f41efc"
      },
      "execution_count": 7,
      "outputs": [
        {
          "output_type": "execute_result",
          "data": {
            "text/plain": [
              "array(['malignant', 'benign'], dtype='<U9')"
            ]
          },
          "metadata": {},
          "execution_count": 7
        }
      ]
    },
    {
      "cell_type": "code",
      "source": [
        "y"
      ],
      "metadata": {
        "colab": {
          "base_uri": "https://localhost:8080/"
        },
        "id": "BQjQ1IpJdpty",
        "outputId": "a4cda551-6a2b-4e4c-9666-2cb7bccdb106"
      },
      "execution_count": 8,
      "outputs": [
        {
          "output_type": "execute_result",
          "data": {
            "text/plain": [
              "array([0, 0, 0, 0, 0, 0, 0, 0, 0, 0, 0, 0, 0, 0, 0, 0, 0, 0, 0, 1, 1, 1,\n",
              "       0, 0, 0, 0, 0, 0, 0, 0, 0, 0, 0, 0, 0, 0, 0, 1, 0, 0, 0, 0, 0, 0,\n",
              "       0, 0, 1, 0, 1, 1, 1, 1, 1, 0, 0, 1, 0, 0, 1, 1, 1, 1, 0, 1, 0, 0,\n",
              "       1, 1, 1, 1, 0, 1, 0, 0, 1, 0, 1, 0, 0, 1, 1, 1, 0, 0, 1, 0, 0, 0,\n",
              "       1, 1, 1, 0, 1, 1, 0, 0, 1, 1, 1, 0, 0, 1, 1, 1, 1, 0, 1, 1, 0, 1,\n",
              "       1, 1, 1, 1, 1, 1, 1, 0, 0, 0, 1, 0, 0, 1, 1, 1, 0, 0, 1, 0, 1, 0,\n",
              "       0, 1, 0, 0, 1, 1, 0, 1, 1, 0, 1, 1, 1, 1, 0, 1, 1, 1, 1, 1, 1, 1,\n",
              "       1, 1, 0, 1, 1, 1, 1, 0, 0, 1, 0, 1, 1, 0, 0, 1, 1, 0, 0, 1, 1, 1,\n",
              "       1, 0, 1, 1, 0, 0, 0, 1, 0, 1, 0, 1, 1, 1, 0, 1, 1, 0, 0, 1, 0, 0,\n",
              "       0, 0, 1, 0, 0, 0, 1, 0, 1, 0, 1, 1, 0, 1, 0, 0, 0, 0, 1, 1, 0, 0,\n",
              "       1, 1, 1, 0, 1, 1, 1, 1, 1, 0, 0, 1, 1, 0, 1, 1, 0, 0, 1, 0, 1, 1,\n",
              "       1, 1, 0, 1, 1, 1, 1, 1, 0, 1, 0, 0, 0, 0, 0, 0, 0, 0, 0, 0, 0, 0,\n",
              "       0, 0, 1, 1, 1, 1, 1, 1, 0, 1, 0, 1, 1, 0, 1, 1, 0, 1, 0, 0, 1, 1,\n",
              "       1, 1, 1, 1, 1, 1, 1, 1, 1, 1, 1, 0, 1, 1, 0, 1, 0, 1, 1, 1, 1, 1,\n",
              "       1, 1, 1, 1, 1, 1, 1, 1, 1, 0, 1, 1, 1, 0, 1, 0, 1, 1, 1, 1, 0, 0,\n",
              "       0, 1, 1, 1, 1, 0, 1, 0, 1, 0, 1, 1, 1, 0, 1, 1, 1, 1, 1, 1, 1, 0,\n",
              "       0, 0, 1, 1, 1, 1, 1, 1, 1, 1, 1, 1, 1, 0, 0, 1, 0, 0, 0, 1, 0, 0,\n",
              "       1, 1, 1, 1, 1, 0, 1, 1, 1, 1, 1, 0, 1, 1, 1, 0, 1, 1, 0, 0, 1, 1,\n",
              "       1, 1, 1, 1, 0, 1, 1, 1, 1, 1, 1, 1, 0, 1, 1, 1, 1, 1, 0, 1, 1, 0,\n",
              "       1, 1, 1, 1, 1, 1, 1, 1, 1, 1, 1, 1, 0, 1, 0, 0, 1, 0, 1, 1, 1, 1,\n",
              "       1, 0, 1, 1, 0, 1, 0, 1, 1, 0, 1, 0, 1, 1, 1, 1, 1, 1, 1, 1, 0, 0,\n",
              "       1, 1, 1, 1, 1, 1, 0, 1, 1, 1, 1, 1, 1, 1, 1, 1, 1, 0, 1, 1, 1, 1,\n",
              "       1, 1, 1, 0, 1, 0, 1, 1, 0, 1, 1, 1, 1, 1, 0, 0, 1, 0, 1, 0, 1, 1,\n",
              "       1, 1, 1, 0, 1, 1, 0, 1, 0, 1, 0, 0, 1, 1, 1, 0, 1, 1, 1, 1, 1, 1,\n",
              "       1, 1, 1, 1, 1, 0, 1, 0, 0, 1, 1, 1, 1, 1, 1, 1, 1, 1, 1, 1, 1, 1,\n",
              "       1, 1, 1, 1, 1, 1, 1, 1, 1, 1, 1, 1, 0, 0, 0, 0, 0, 0, 1])"
            ]
          },
          "metadata": {},
          "execution_count": 8
        }
      ]
    },
    {
      "cell_type": "code",
      "source": [
        "x"
      ],
      "metadata": {
        "colab": {
          "base_uri": "https://localhost:8080/"
        },
        "id": "gNvLoNy6d5dU",
        "outputId": "b2b67b8d-7e65-4b18-f84d-22eb3fb86e23"
      },
      "execution_count": 9,
      "outputs": [
        {
          "output_type": "execute_result",
          "data": {
            "text/plain": [
              "array([[1.799e+01, 1.038e+01, 1.228e+02, ..., 2.654e-01, 4.601e-01,\n",
              "        1.189e-01],\n",
              "       [2.057e+01, 1.777e+01, 1.329e+02, ..., 1.860e-01, 2.750e-01,\n",
              "        8.902e-02],\n",
              "       [1.969e+01, 2.125e+01, 1.300e+02, ..., 2.430e-01, 3.613e-01,\n",
              "        8.758e-02],\n",
              "       ...,\n",
              "       [1.660e+01, 2.808e+01, 1.083e+02, ..., 1.418e-01, 2.218e-01,\n",
              "        7.820e-02],\n",
              "       [2.060e+01, 2.933e+01, 1.401e+02, ..., 2.650e-01, 4.087e-01,\n",
              "        1.240e-01],\n",
              "       [7.760e+00, 2.454e+01, 4.792e+01, ..., 0.000e+00, 2.871e-01,\n",
              "        7.039e-02]])"
            ]
          },
          "metadata": {},
          "execution_count": 9
        }
      ]
    },
    {
      "cell_type": "code",
      "source": [
        "from sklearn.neighbors import KNeighborsClassifier\n",
        "from sklearn.model_selection import train_test_split"
      ],
      "metadata": {
        "id": "4ns_6ttKd7pF"
      },
      "execution_count": 10,
      "outputs": []
    },
    {
      "cell_type": "code",
      "source": [
        "x_train, x_test, y_train, y_test =train_test_split(x, y, test_size=0.2, random_state=42 )"
      ],
      "metadata": {
        "id": "y4JcxJwlejF6"
      },
      "execution_count": 11,
      "outputs": []
    },
    {
      "cell_type": "code",
      "source": [
        "knn = KNeighborsClassifier(n_neighbors=8)\n",
        "knn.fit(x_train, y_train)\n",
        "y_pred = knn.predict(x_test)"
      ],
      "metadata": {
        "id": "CAEevLCefVvK"
      },
      "execution_count": 12,
      "outputs": []
    },
    {
      "cell_type": "code",
      "source": [
        "from sklearn.metrics import confusion_matrix, classification_report\n",
        "\n",
        "print(confusion_matrix(y_test, y_pred,))\n",
        "print(classification_report(y_test, y_pred))"
      ],
      "metadata": {
        "colab": {
          "base_uri": "https://localhost:8080/"
        },
        "id": "SS97mKAgfvJX",
        "outputId": "69cfe9ba-a2d3-43ee-884e-fb8c926181eb"
      },
      "execution_count": 13,
      "outputs": [
        {
          "output_type": "stream",
          "name": "stdout",
          "text": [
            "[[39  4]\n",
            " [ 1 70]]\n",
            "              precision    recall  f1-score   support\n",
            "\n",
            "           0       0.97      0.91      0.94        43\n",
            "           1       0.95      0.99      0.97        71\n",
            "\n",
            "    accuracy                           0.96       114\n",
            "   macro avg       0.96      0.95      0.95       114\n",
            "weighted avg       0.96      0.96      0.96       114\n",
            "\n"
          ]
        }
      ]
    },
    {
      "cell_type": "code",
      "source": [
        "from sklearn.linear_model import LogisticRegression"
      ],
      "metadata": {
        "id": "RYYPWF_XiA0C"
      },
      "execution_count": 14,
      "outputs": []
    },
    {
      "cell_type": "markdown",
      "source": [
        "Logistic regression andROC cruve \n",
        "classification خطی رو انجام میده و خروجی های آن احتما انتخاب شدن برچسب مورد نظره \n"
      ],
      "metadata": {
        "id": "VNG2p4cWlIhd"
      }
    },
    {
      "cell_type": "code",
      "source": [
        "log= LogisticRegression()\n",
        "log.fit(x_train, y_train)\n",
        "y_pred= log.predict(x_test)\n",
        "\n",
        "cm = confusion_matrix(y_test, y_pred)\n",
        "cm"
      ],
      "metadata": {
        "id": "Z4Y8w1dGm4Zw",
        "colab": {
          "base_uri": "https://localhost:8080/"
        },
        "outputId": "2d269489-e285-4f14-e481-9820f6ff3187"
      },
      "execution_count": 15,
      "outputs": [
        {
          "output_type": "stream",
          "name": "stderr",
          "text": [
            "/usr/local/lib/python3.7/dist-packages/sklearn/linear_model/_logistic.py:818: ConvergenceWarning: lbfgs failed to converge (status=1):\n",
            "STOP: TOTAL NO. of ITERATIONS REACHED LIMIT.\n",
            "\n",
            "Increase the number of iterations (max_iter) or scale the data as shown in:\n",
            "    https://scikit-learn.org/stable/modules/preprocessing.html\n",
            "Please also refer to the documentation for alternative solver options:\n",
            "    https://scikit-learn.org/stable/modules/linear_model.html#logistic-regression\n",
            "  extra_warning_msg=_LOGISTIC_SOLVER_CONVERGENCE_MSG,\n"
          ]
        },
        {
          "output_type": "execute_result",
          "data": {
            "text/plain": [
              "array([[40,  3],\n",
              "       [ 1, 70]])"
            ]
          },
          "metadata": {},
          "execution_count": 15
        }
      ]
    },
    {
      "cell_type": "code",
      "source": [
        "from sklearn.preprocessing import normalize"
      ],
      "metadata": {
        "id": "7IukYiOyTiVb"
      },
      "execution_count": 16,
      "outputs": []
    },
    {
      "cell_type": "code",
      "source": [
        "cm = normalize(cm, norm='l1', axis=1)\n",
        "cm_df=pd.DataFrame(cm, columns=bcd.target_names, index=bcd.target_names)\n",
        "cm_df"
      ],
      "metadata": {
        "colab": {
          "base_uri": "https://localhost:8080/",
          "height": 112
        },
        "id": "fD9e5OVhUixQ",
        "outputId": "5ff2fa0f-1dbe-4863-f9aa-15a2e5384800"
      },
      "execution_count": 17,
      "outputs": [
        {
          "output_type": "execute_result",
          "data": {
            "text/html": [
              "\n",
              "  <div id=\"df-2d6aa855-39f1-450a-a82c-cc143f35ac30\">\n",
              "    <div class=\"colab-df-container\">\n",
              "      <div>\n",
              "<style scoped>\n",
              "    .dataframe tbody tr th:only-of-type {\n",
              "        vertical-align: middle;\n",
              "    }\n",
              "\n",
              "    .dataframe tbody tr th {\n",
              "        vertical-align: top;\n",
              "    }\n",
              "\n",
              "    .dataframe thead th {\n",
              "        text-align: right;\n",
              "    }\n",
              "</style>\n",
              "<table border=\"1\" class=\"dataframe\">\n",
              "  <thead>\n",
              "    <tr style=\"text-align: right;\">\n",
              "      <th></th>\n",
              "      <th>malignant</th>\n",
              "      <th>benign</th>\n",
              "    </tr>\n",
              "  </thead>\n",
              "  <tbody>\n",
              "    <tr>\n",
              "      <th>malignant</th>\n",
              "      <td>0.930233</td>\n",
              "      <td>0.069767</td>\n",
              "    </tr>\n",
              "    <tr>\n",
              "      <th>benign</th>\n",
              "      <td>0.014085</td>\n",
              "      <td>0.985915</td>\n",
              "    </tr>\n",
              "  </tbody>\n",
              "</table>\n",
              "</div>\n",
              "      <button class=\"colab-df-convert\" onclick=\"convertToInteractive('df-2d6aa855-39f1-450a-a82c-cc143f35ac30')\"\n",
              "              title=\"Convert this dataframe to an interactive table.\"\n",
              "              style=\"display:none;\">\n",
              "        \n",
              "  <svg xmlns=\"http://www.w3.org/2000/svg\" height=\"24px\"viewBox=\"0 0 24 24\"\n",
              "       width=\"24px\">\n",
              "    <path d=\"M0 0h24v24H0V0z\" fill=\"none\"/>\n",
              "    <path d=\"M18.56 5.44l.94 2.06.94-2.06 2.06-.94-2.06-.94-.94-2.06-.94 2.06-2.06.94zm-11 1L8.5 8.5l.94-2.06 2.06-.94-2.06-.94L8.5 2.5l-.94 2.06-2.06.94zm10 10l.94 2.06.94-2.06 2.06-.94-2.06-.94-.94-2.06-.94 2.06-2.06.94z\"/><path d=\"M17.41 7.96l-1.37-1.37c-.4-.4-.92-.59-1.43-.59-.52 0-1.04.2-1.43.59L10.3 9.45l-7.72 7.72c-.78.78-.78 2.05 0 2.83L4 21.41c.39.39.9.59 1.41.59.51 0 1.02-.2 1.41-.59l7.78-7.78 2.81-2.81c.8-.78.8-2.07 0-2.86zM5.41 20L4 18.59l7.72-7.72 1.47 1.35L5.41 20z\"/>\n",
              "  </svg>\n",
              "      </button>\n",
              "      \n",
              "  <style>\n",
              "    .colab-df-container {\n",
              "      display:flex;\n",
              "      flex-wrap:wrap;\n",
              "      gap: 12px;\n",
              "    }\n",
              "\n",
              "    .colab-df-convert {\n",
              "      background-color: #E8F0FE;\n",
              "      border: none;\n",
              "      border-radius: 50%;\n",
              "      cursor: pointer;\n",
              "      display: none;\n",
              "      fill: #1967D2;\n",
              "      height: 32px;\n",
              "      padding: 0 0 0 0;\n",
              "      width: 32px;\n",
              "    }\n",
              "\n",
              "    .colab-df-convert:hover {\n",
              "      background-color: #E2EBFA;\n",
              "      box-shadow: 0px 1px 2px rgba(60, 64, 67, 0.3), 0px 1px 3px 1px rgba(60, 64, 67, 0.15);\n",
              "      fill: #174EA6;\n",
              "    }\n",
              "\n",
              "    [theme=dark] .colab-df-convert {\n",
              "      background-color: #3B4455;\n",
              "      fill: #D2E3FC;\n",
              "    }\n",
              "\n",
              "    [theme=dark] .colab-df-convert:hover {\n",
              "      background-color: #434B5C;\n",
              "      box-shadow: 0px 1px 3px 1px rgba(0, 0, 0, 0.15);\n",
              "      filter: drop-shadow(0px 1px 2px rgba(0, 0, 0, 0.3));\n",
              "      fill: #FFFFFF;\n",
              "    }\n",
              "  </style>\n",
              "\n",
              "      <script>\n",
              "        const buttonEl =\n",
              "          document.querySelector('#df-2d6aa855-39f1-450a-a82c-cc143f35ac30 button.colab-df-convert');\n",
              "        buttonEl.style.display =\n",
              "          google.colab.kernel.accessAllowed ? 'block' : 'none';\n",
              "\n",
              "        async function convertToInteractive(key) {\n",
              "          const element = document.querySelector('#df-2d6aa855-39f1-450a-a82c-cc143f35ac30');\n",
              "          const dataTable =\n",
              "            await google.colab.kernel.invokeFunction('convertToInteractive',\n",
              "                                                     [key], {});\n",
              "          if (!dataTable) return;\n",
              "\n",
              "          const docLinkHtml = 'Like what you see? Visit the ' +\n",
              "            '<a target=\"_blank\" href=https://colab.research.google.com/notebooks/data_table.ipynb>data table notebook</a>'\n",
              "            + ' to learn more about interactive tables.';\n",
              "          element.innerHTML = '';\n",
              "          dataTable['output_type'] = 'display_data';\n",
              "          await google.colab.output.renderOutput(dataTable, element);\n",
              "          const docLink = document.createElement('div');\n",
              "          docLink.innerHTML = docLinkHtml;\n",
              "          element.appendChild(docLink);\n",
              "        }\n",
              "      </script>\n",
              "    </div>\n",
              "  </div>\n",
              "  "
            ],
            "text/plain": [
              "           malignant    benign\n",
              "malignant   0.930233  0.069767\n",
              "benign      0.014085  0.985915"
            ]
          },
          "metadata": {},
          "execution_count": 17
        }
      ]
    },
    {
      "cell_type": "code",
      "source": [
        "from sklearn.metrics import roc_curve"
      ],
      "metadata": {
        "id": "r-RB-hJhUyQB"
      },
      "execution_count": 18,
      "outputs": []
    },
    {
      "cell_type": "code",
      "source": [
        "y_pred_prob = log.predict_proba(x_test)\n",
        "y_pred_prob \n"
      ],
      "metadata": {
        "colab": {
          "base_uri": "https://localhost:8080/"
        },
        "id": "gPSTIp-RW1oK",
        "outputId": "f5672a55-c4ba-4d41-974a-6f7ad574a018"
      },
      "execution_count": 19,
      "outputs": [
        {
          "output_type": "execute_result",
          "data": {
            "text/plain": [
              "array([[1.23668706e-01, 8.76331294e-01],\n",
              "       [9.99999999e-01, 1.38151842e-09],\n",
              "       [9.95921658e-01, 4.07834151e-03],\n",
              "       [2.65028339e-03, 9.97349717e-01],\n",
              "       [1.01082617e-03, 9.98989174e-01],\n",
              "       [1.00000000e+00, 2.04643006e-10],\n",
              "       [1.00000000e+00, 2.23692650e-13],\n",
              "       [9.96571871e-01, 3.42812891e-03],\n",
              "       [2.98630827e-03, 9.97013692e-01],\n",
              "       [1.64164015e-02, 9.83583598e-01],\n",
              "       [3.78832810e-02, 9.62116719e-01],\n",
              "       [9.99796402e-01, 2.03597866e-04],\n",
              "       [1.16502705e-02, 9.88349729e-01],\n",
              "       [5.15528568e-01, 4.84471432e-01],\n",
              "       [3.88352687e-03, 9.96116473e-01],\n",
              "       [9.99242055e-01, 7.57945239e-04],\n",
              "       [3.36236084e-03, 9.96637639e-01],\n",
              "       [2.14109681e-04, 9.99785890e-01],\n",
              "       [4.22071523e-03, 9.95779285e-01],\n",
              "       [9.99999842e-01, 1.57773684e-07],\n",
              "       [1.60766936e-01, 8.39233064e-01],\n",
              "       [2.98753573e-02, 9.70124643e-01],\n",
              "       [9.99999998e-01, 2.22105715e-09],\n",
              "       [4.64203538e-03, 9.95357965e-01],\n",
              "       [8.23856823e-03, 9.91761432e-01],\n",
              "       [5.87321634e-04, 9.99412678e-01],\n",
              "       [3.19616045e-03, 9.96803840e-01],\n",
              "       [3.19202881e-03, 9.96807971e-01],\n",
              "       [5.90409572e-03, 9.94095904e-01],\n",
              "       [9.99999969e-01, 3.09886774e-08],\n",
              "       [2.91195250e-03, 9.97088048e-01],\n",
              "       [1.91701828e-03, 9.98082982e-01],\n",
              "       [2.49840950e-02, 9.75015905e-01],\n",
              "       [1.41497593e-02, 9.85850241e-01],\n",
              "       [1.50718779e-03, 9.98492812e-01],\n",
              "       [2.81443520e-03, 9.97185565e-01],\n",
              "       [9.98376462e-01, 1.62353791e-03],\n",
              "       [1.49989051e-02, 9.85001095e-01],\n",
              "       [9.99998169e-01, 1.83136620e-06],\n",
              "       [7.90948995e-02, 9.20905100e-01],\n",
              "       [1.63852589e-03, 9.98361474e-01],\n",
              "       [9.98877406e-01, 1.12259419e-03],\n",
              "       [6.59027481e-04, 9.99340973e-01],\n",
              "       [8.40170486e-03, 9.91598295e-01],\n",
              "       [1.87217396e-03, 9.98127826e-01],\n",
              "       [3.80336402e-02, 9.61966360e-01],\n",
              "       [1.36629698e-03, 9.98633703e-01],\n",
              "       [1.16638756e-02, 9.88336124e-01],\n",
              "       [6.22655442e-02, 9.37734456e-01],\n",
              "       [3.66892307e-03, 9.96331077e-01],\n",
              "       [9.99927495e-01, 7.25045224e-05],\n",
              "       [9.99999999e-01, 8.07194213e-10],\n",
              "       [3.42101574e-02, 9.65789843e-01],\n",
              "       [2.44091284e-03, 9.97559087e-01],\n",
              "       [7.72907106e-04, 9.99227093e-01],\n",
              "       [1.60672044e-02, 9.83932796e-01],\n",
              "       [1.61538776e-03, 9.98384612e-01],\n",
              "       [1.00000000e+00, 1.44530282e-15],\n",
              "       [1.54997666e-01, 8.45002334e-01],\n",
              "       [3.10896894e-04, 9.99689103e-01],\n",
              "       [1.53201170e-02, 9.84679883e-01],\n",
              "       [9.99999690e-01, 3.10379514e-07],\n",
              "       [1.00000000e+00, 3.43789923e-12],\n",
              "       [1.97848237e-02, 9.80215176e-01],\n",
              "       [1.17334543e-02, 9.88266546e-01],\n",
              "       [4.14022553e-02, 9.58597745e-01],\n",
              "       [9.99858297e-01, 1.41703445e-04],\n",
              "       [9.99999996e-01, 4.19440435e-09],\n",
              "       [5.58821268e-03, 9.94411787e-01],\n",
              "       [9.45940959e-03, 9.90540590e-01],\n",
              "       [9.93277805e-01, 6.72219524e-03],\n",
              "       [9.99981053e-01, 1.89473047e-05],\n",
              "       [9.53474534e-03, 9.90465255e-01],\n",
              "       [8.97138584e-01, 1.02861416e-01],\n",
              "       [1.40811983e-02, 9.85918802e-01],\n",
              "       [1.27985037e-03, 9.98720150e-01],\n",
              "       [7.38230823e-02, 9.26176918e-01],\n",
              "       [3.57794911e-01, 6.42205089e-01],\n",
              "       [4.45617281e-03, 9.95543827e-01],\n",
              "       [1.22275695e-02, 9.87772430e-01],\n",
              "       [9.99266973e-01, 7.33026803e-04],\n",
              "       [9.04711654e-03, 9.90952883e-01],\n",
              "       [5.88003461e-01, 4.11996539e-01],\n",
              "       [1.00000000e+00, 6.07268672e-11],\n",
              "       [9.99700036e-01, 2.99963549e-04],\n",
              "       [9.22497627e-01, 7.75023728e-02],\n",
              "       [9.89791983e-01, 1.02080172e-02],\n",
              "       [9.99999289e-01, 7.11384110e-07],\n",
              "       [3.54448872e-03, 9.96455511e-01],\n",
              "       [1.61304012e-02, 9.83869599e-01],\n",
              "       [4.14491616e-02, 9.58550838e-01],\n",
              "       [5.38629415e-02, 9.46137059e-01],\n",
              "       [6.37017255e-02, 9.36298274e-01],\n",
              "       [8.72805413e-03, 9.91271946e-01],\n",
              "       [1.72630907e-03, 9.98273691e-01],\n",
              "       [3.60982705e-03, 9.96390173e-01],\n",
              "       [9.99999994e-01, 5.95583421e-09],\n",
              "       [9.99999681e-01, 3.19216205e-07],\n",
              "       [3.46750933e-04, 9.99653249e-01],\n",
              "       [9.99922671e-01, 7.73291561e-05],\n",
              "       [9.99944002e-01, 5.59980924e-05],\n",
              "       [1.53510219e-04, 9.99846490e-01],\n",
              "       [9.99999990e-01, 9.76595589e-09],\n",
              "       [9.97396334e-01, 2.60366613e-03],\n",
              "       [1.42453087e-01, 8.57546913e-01],\n",
              "       [2.76536679e-01, 7.23463321e-01],\n",
              "       [7.55021093e-03, 9.92449789e-01],\n",
              "       [1.00000000e+00, 1.46949559e-19],\n",
              "       [4.40260019e-02, 9.55973998e-01],\n",
              "       [2.06457570e-01, 7.93542430e-01],\n",
              "       [9.99839177e-01, 1.60822691e-04],\n",
              "       [4.23100197e-03, 9.95768998e-01],\n",
              "       [7.83275630e-01, 2.16724370e-01],\n",
              "       [1.00000000e+00, 5.34692628e-28]])"
            ]
          },
          "metadata": {},
          "execution_count": 19
        }
      ]
    },
    {
      "cell_type": "code",
      "source": [
        "y_pred_prob = log.predict_proba(x_test)[: , 1]\n",
        "\n",
        "fpr, tpr, thresholds = roc_curve(y_test, y_pred_prob)\n",
        "plt.plot([0, 1],[0, 1], 'k--')\n",
        "plt.plot(fpr, tpr)\n",
        "plt.xlabel('FPR')\n",
        "plt.ylabel('TPR')\n",
        "plt.show()"
      ],
      "metadata": {
        "colab": {
          "base_uri": "https://localhost:8080/",
          "height": 279
        },
        "id": "uZs3zMs4XpyV",
        "outputId": "47a22402-df6c-48f2-ddd3-c30ed3542913"
      },
      "execution_count": 20,
      "outputs": [
        {
          "output_type": "display_data",
          "data": {
            "image/png": "[encoded data removed]",
            "text/plain": [
              "<Figure size 432x288 with 1 Axes>"
            ]
          },
          "metadata": {
            "needs_background": "light"
          }
        }
      ]
    },
    {
      "cell_type": "code",
      "source": [
        "from sklearn.metrics import roc_auc_score\n",
        "roc_auc_score(y_test, y_pred_prob)"
      ],
      "metadata": {
        "colab": {
          "base_uri": "https://localhost:8080/"
        },
        "id": "2P1AwjqtXvl8",
        "outputId": "f26fcc90-834e-43c1-e87f-90756ddff755"
      },
      "execution_count": 21,
      "outputs": [
        {
          "output_type": "execute_result",
          "data": {
            "text/plain": [
              "0.9970520799213888"
            ]
          },
          "metadata": {},
          "execution_count": 21
        }
      ]
    },
    {
      "cell_type": "code",
      "source": [
        "from sklearn.model_selection import GridSearchCV\n",
        "param_grid = {'n_neighbors' : np.arange(1, 50)}"
      ],
      "metadata": {
        "id": "l3Ogq4eIZxsm"
      },
      "execution_count": 22,
      "outputs": []
    },
    {
      "cell_type": "code",
      "source": [
        "from sklearn.neighbors import KNeighborsClassifier\n",
        "knn= KNeighborsClassifier()\n",
        "knn_cv =  GridSearchCV(knn, param_grid, cv=5)\n",
        "knn_cv.fit(x, y)\n",
        "\n",
        "print(knn_cv.best_params_)\n",
        "print(knn_cv.best_score_)\n"
      ],
      "metadata": {
        "colab": {
          "base_uri": "https://localhost:8080/"
        },
        "id": "b40PIPkImoIT",
        "outputId": "370e76d5-8400-4c42-cdea-7ad0f27d5bb7"
      },
      "execution_count": 23,
      "outputs": [
        {
          "output_type": "stream",
          "name": "stdout",
          "text": [
            "{'n_neighbors': 13}\n",
            "0.9332401800962584\n"
          ]
        }
      ]
    },
    {
      "cell_type": "code",
      "source": [
        "from scipy.stats import randint"
      ],
      "metadata": {
        "id": "1ajnSC_ToyCk"
      },
      "execution_count": 24,
      "outputs": []
    },
    {
      "cell_type": "code",
      "source": [
        "randint(1, 9).rvs(3)"
      ],
      "metadata": {
        "colab": {
          "base_uri": "https://localhost:8080/"
        },
        "id": "F26KJ7L1o-hT",
        "outputId": "0ed1f50f-b52f-42f0-f400-b65d3b540e01"
      },
      "execution_count": 40,
      "outputs": [
        {
          "output_type": "execute_result",
          "data": {
            "text/plain": [
              "array([4, 7, 2])"
            ]
          },
          "metadata": {},
          "execution_count": 40
        }
      ]
    },
    {
      "cell_type": "code",
      "source": [
        "from sklearn.model_selection import RandomizedSearchCV\n",
        "from sklearn.tree import DecisionTreeClassifier \n",
        "\n",
        "params = {'max_depth' :[None, 3],\n",
        "          'max_features' : randint(1, 9),\n",
        "          'min_samples_leaf': randint(1, 9)}"
      ],
      "metadata": {
        "id": "G-0maXhYniz7"
      },
      "execution_count": 49,
      "outputs": []
    },
    {
      "cell_type": "code",
      "source": [
        "tree= DecisionTreeClassifier()\n",
        "tree_cv = RandomizedSearchCV(tree, params, cv=10)\n",
        "tree_cv.fit(x_train, y_train)\n",
        "print(tree_cv.best_params_)\n",
        "print(tree_cv.best_score_)\n",
        "score = tree_cv.score(x_test, y_test)\n",
        "print(score)"
      ],
      "metadata": {
        "id": "7YNBhlutonHp",
        "colab": {
          "base_uri": "https://localhost:8080/"
        },
        "outputId": "6e3ddd16-b8f4-458a-e156-e3284b2cfa6b"
      },
      "execution_count": 62,
      "outputs": [
        {
          "output_type": "stream",
          "name": "stdout",
          "text": [
            "{'max_depth': 3, 'max_features': 6, 'min_samples_leaf': 7}\n",
            "0.9362318840579711\n",
            "0.956140350877193\n"
          ]
        }
      ]
    },
    {
      "cell_type": "markdown",
      "source": [
        "# NAIVE baysian classifier\n",
        "frequenty table- likelihood table\n"
      ],
      "metadata": {
        "id": "UG5sotswP_Iq"
      }
    },
    {
      "cell_type": "code",
      "source": [
        " from sklearn.naive_bayes import GaussianNB\n",
        " gnb=GaussianNB()\n",
        " gnb.fit(x_train, y_train)\n",
        " y_pred = gnb.predict(x_test)\n",
        " y_pred"
      ],
      "metadata": {
        "colab": {
          "base_uri": "https://localhost:8080/"
        },
        "id": "qFcJULjCIsG1",
        "outputId": "d158019f-0a31-44d6-a9fb-26267356a956"
      },
      "execution_count": 63,
      "outputs": [
        {
          "output_type": "execute_result",
          "data": {
            "text/plain": [
              "array([1, 0, 0, 1, 1, 0, 0, 0, 1, 1, 1, 0, 1, 0, 1, 0, 1, 1, 1, 0, 1, 1,\n",
              "       0, 1, 1, 1, 1, 1, 1, 0, 1, 1, 1, 1, 1, 1, 0, 1, 0, 1, 1, 0, 1, 1,\n",
              "       1, 1, 1, 1, 1, 1, 0, 0, 1, 1, 1, 1, 1, 0, 0, 1, 1, 0, 0, 1, 1, 1,\n",
              "       0, 0, 1, 1, 0, 0, 1, 0, 1, 1, 1, 1, 1, 1, 0, 1, 1, 0, 0, 0, 0, 0,\n",
              "       1, 1, 1, 1, 1, 1, 1, 1, 0, 0, 1, 0, 0, 1, 0, 0, 1, 1, 1, 0, 1, 1,\n",
              "       0, 1, 1, 0])"
            ]
          },
          "metadata": {},
          "execution_count": 63
        }
      ]
    },
    {
      "cell_type": "code",
      "source": [
        "gnb.score(x_test, y_test)"
      ],
      "metadata": {
        "colab": {
          "base_uri": "https://localhost:8080/"
        },
        "id": "R_BOKuc2gL9c",
        "outputId": "04d31a77-19df-488d-f8c2-b3c9cc45675c"
      },
      "execution_count": 64,
      "outputs": [
        {
          "output_type": "execute_result",
          "data": {
            "text/plain": [
              "0.9736842105263158"
            ]
          },
          "metadata": {},
          "execution_count": 64
        }
      ]
    },
    {
      "cell_type": "code",
      "source": [
        ""
      ],
      "metadata": {
        "id": "KHSaMfYMglSF"
      },
      "execution_count": null,
      "outputs": []
    }
  ]
}